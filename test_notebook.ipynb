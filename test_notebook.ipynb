{
  "nbformat": 4,
  "nbformat_minor": 0,
  "metadata": {
    "colab": {
      "name": "test-notebook.ipynb",
      "provenance": [],
      "authorship_tag": "ABX9TyOVG98TDMiZArMJFLmwjkpI",
      "include_colab_link": true
    },
    "kernelspec": {
      "name": "python3",
      "display_name": "Python 3"
    }
  },
  "cells": [
    {
      "cell_type": "markdown",
      "metadata": {
        "id": "view-in-github",
        "colab_type": "text"
      },
      "source": [
        "<a href=\"https://colab.research.google.com/github/agauba5/test_colab_repo/blob/master/test_notebook.ipynb\" target=\"_parent\"><img src=\"https://colab.research.google.com/assets/colab-badge.svg\" alt=\"Open In Colab\"/></a>"
      ]
    },
    {
      "cell_type": "code",
      "metadata": {
        "id": "xdG0G8ahFjYk",
        "colab_type": "code",
        "colab": {}
      },
      "source": [
        ""
      ],
      "execution_count": null,
      "outputs": []
    },
    {
      "cell_type": "markdown",
      "metadata": {
        "id": "P2rPbsqVFssR",
        "colab_type": "text"
      },
      "source": [
        "this is a test notebook to show how to save google colab notebooks to gitub"
      ]
    },
    {
      "cell_type": "markdown",
      "metadata": {
        "id": "HLqibwO0IZhb",
        "colab_type": "text"
      },
      "source": [
        "Addition of new text"
      ]
    }
  ]
}